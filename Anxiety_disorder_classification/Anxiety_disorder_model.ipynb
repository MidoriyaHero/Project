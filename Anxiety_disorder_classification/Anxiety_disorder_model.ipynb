{
 "cells": [
  {
   "cell_type": "code",
   "execution_count": 1,
   "id": "965f752b",
   "metadata": {},
   "outputs": [],
   "source": [
    "import pandas as pd\n",
    "import numpy as np\n",
    "import matplotlib.pyplot as plt"
   ]
  },
  {
   "cell_type": "code",
   "execution_count": 2,
   "id": "00e8632e",
   "metadata": {
    "scrolled": false
   },
   "outputs": [
    {
     "data": {
      "text/html": [
       "<div>\n",
       "<style scoped>\n",
       "    .dataframe tbody tr th:only-of-type {\n",
       "        vertical-align: middle;\n",
       "    }\n",
       "\n",
       "    .dataframe tbody tr th {\n",
       "        vertical-align: top;\n",
       "    }\n",
       "\n",
       "    .dataframe thead th {\n",
       "        text-align: right;\n",
       "    }\n",
       "</style>\n",
       "<table border=\"1\" class=\"dataframe\">\n",
       "  <thead>\n",
       "    <tr style=\"text-align: right;\">\n",
       "      <th></th>\n",
       "      <th>Age</th>\n",
       "      <th>Sex</th>\n",
       "      <th>student</th>\n",
       "      <th>activities levels</th>\n",
       "      <th>family history of anxiety disorders</th>\n",
       "      <th>Total score</th>\n",
       "      <th>Classification</th>\n",
       "    </tr>\n",
       "  </thead>\n",
       "  <tbody>\n",
       "    <tr>\n",
       "      <th>0</th>\n",
       "      <td>0</td>\n",
       "      <td>0</td>\n",
       "      <td>1</td>\n",
       "      <td>3</td>\n",
       "      <td>1</td>\n",
       "      <td>11</td>\n",
       "      <td>2</td>\n",
       "    </tr>\n",
       "    <tr>\n",
       "      <th>1</th>\n",
       "      <td>1</td>\n",
       "      <td>0</td>\n",
       "      <td>1</td>\n",
       "      <td>3</td>\n",
       "      <td>0</td>\n",
       "      <td>5</td>\n",
       "      <td>1</td>\n",
       "    </tr>\n",
       "    <tr>\n",
       "      <th>2</th>\n",
       "      <td>1</td>\n",
       "      <td>0</td>\n",
       "      <td>1</td>\n",
       "      <td>2</td>\n",
       "      <td>0</td>\n",
       "      <td>4</td>\n",
       "      <td>0</td>\n",
       "    </tr>\n",
       "    <tr>\n",
       "      <th>3</th>\n",
       "      <td>1</td>\n",
       "      <td>0</td>\n",
       "      <td>1</td>\n",
       "      <td>2</td>\n",
       "      <td>0</td>\n",
       "      <td>4</td>\n",
       "      <td>0</td>\n",
       "    </tr>\n",
       "    <tr>\n",
       "      <th>4</th>\n",
       "      <td>1</td>\n",
       "      <td>0</td>\n",
       "      <td>1</td>\n",
       "      <td>2</td>\n",
       "      <td>0</td>\n",
       "      <td>3</td>\n",
       "      <td>0</td>\n",
       "    </tr>\n",
       "  </tbody>\n",
       "</table>\n",
       "</div>"
      ],
      "text/plain": [
       "   Age  Sex  student  activities levels  family history of anxiety disorders  \\\n",
       "0    0    0        1                  3                                    1   \n",
       "1    1    0        1                  3                                    0   \n",
       "2    1    0        1                  2                                    0   \n",
       "3    1    0        1                  2                                    0   \n",
       "4    1    0        1                  2                                    0   \n",
       "\n",
       "   Total score  Classification  \n",
       "0           11               2  \n",
       "1            5               1  \n",
       "2            4               0  \n",
       "3            4               0  \n",
       "4            3               0  "
      ]
     },
     "execution_count": 2,
     "metadata": {},
     "output_type": "execute_result"
    }
   ],
   "source": [
    "data = pd.read_excel(r\"D:\\STUDY\\AI\\PROJECT\\Data-anxiety-disorder.xlsx\")\n",
    "data.head()"
   ]
  },
  {
   "cell_type": "code",
   "execution_count": 3,
   "id": "356c86ac",
   "metadata": {},
   "outputs": [],
   "source": [
    "from matplotlib import pyplot as plt\n",
    "%matplotlib inline"
   ]
  },
  {
   "cell_type": "code",
   "execution_count": 8,
   "id": "22f14768",
   "metadata": {},
   "outputs": [
    {
     "name": "stdout",
     "output_type": "stream",
     "text": [
      "63 99 63 75\n"
     ]
    }
   ],
   "source": [
    "df0 = data[data['Classification']==0]\n",
    "df1 = data[data['Classification']==1]\n",
    "df2 = data[data['Classification']==2]\n",
    "df3 = data[data['Classification']==3]\n",
    "a = data['Classification'].value_counts()[0]\n",
    "b = data['Classification'].value_counts()[1]\n",
    "c = data['Classification'].value_counts()[2]\n",
    "d = data['Classification'].value_counts()[3]\n",
    "\n",
    "print(a, b, c, d)"
   ]
  },
  {
   "cell_type": "markdown",
   "id": "fa3d3eed",
   "metadata": {},
   "source": [
    "## Data visuallize"
   ]
  },
  {
   "cell_type": "code",
   "execution_count": 9,
   "id": "4e4eadc8",
   "metadata": {
    "scrolled": true
   },
   "outputs": [
    {
     "data": {
      "text/plain": [
       "<matplotlib.collections.PathCollection at 0x220c323f8e0>"
      ]
     },
     "execution_count": 9,
     "metadata": {},
     "output_type": "execute_result"
    },
    {
     "data": {
      "image/png": "[encoded data removed]",
      "text/plain": [
       "<Figure size 432x288 with 1 Axes>"
      ]
     },
     "metadata": {
      "needs_background": "light"
     },
     "output_type": "display_data"
    }
   ],
   "source": [
    "plt.xlabel('activities levels')\n",
    "plt.ylabel('Total score')\n",
    "plt.scatter(df0['activities levels'],df0['Total score'],color ='green')\n",
    "plt.scatter(df1['activities levels'],df1['Total score'],color ='red')\n",
    "plt.scatter(df2['activities levels'],df2['Total score'],color ='blue')\n",
    "plt.scatter(df3['activities levels'],df3['Total score'],color ='pink')"
   ]
  },
  {
   "cell_type": "markdown",
   "id": "430fa0f1",
   "metadata": {},
   "source": [
    "## Scale \"Score\" features"
   ]
  },
  {
   "cell_type": "code",
   "execution_count": 102,
   "id": "f01da573",
   "metadata": {},
   "outputs": [],
   "source": [
    "from sklearn.preprocessing import MinMaxScaler"
   ]
  },
  {
   "cell_type": "code",
   "execution_count": 118,
   "id": "cad1c483",
   "metadata": {},
   "outputs": [],
   "source": [
    "scaler = MinMaxScaler()\n",
    "x_scaled = scaler.fit_transform(data[[\"Total score\"]])\n",
    "for i in range(len(x_scaled)):\n",
    "    data[\"Total score\"][i] = x_scaled[i]\n"
   ]
  },
  {
   "cell_type": "code",
   "execution_count": 10,
   "id": "09c9fe58",
   "metadata": {},
   "outputs": [],
   "source": [
    "from sklearn import svm\n",
    "from sklearn import tree\n",
    "from sklearn.neighbors import KNeighborsClassifier\n",
    "from sklearn.ensemble import RandomForestClassifier\n",
    "from sklearn.model_selection import train_test_split"
   ]
  },
  {
   "cell_type": "code",
   "execution_count": 11,
   "id": "fff37bd2",
   "metadata": {},
   "outputs": [],
   "source": [
    "x = data.drop([\"Classification\"],axis =1)\n",
    "y = data[\"Classification\"]"
   ]
  },
  {
   "cell_type": "code",
   "execution_count": 12,
   "id": "795018e3",
   "metadata": {},
   "outputs": [],
   "source": [
    "x_train, x_test , y_train,y_test = train_test_split(x,y,shuffle=False, stratify=None,test_size = 0.1)"
   ]
  },
  {
   "cell_type": "code",
   "execution_count": 121,
   "id": "dad726c7",
   "metadata": {},
   "outputs": [],
   "source": [
    "svm_classifier = svm.SVC(kernel ='rbf')\n",
    "svm_classifier.fit(x_train, y_train)\n",
    "predictions = svm_classifier.predict(x_test)"
   ]
  },
  {
   "cell_type": "code",
   "execution_count": 122,
   "id": "d4c8a820",
   "metadata": {
    "scrolled": false
   },
   "outputs": [
    {
     "data": {
      "text/plain": [
       "0.7333333333333333"
      ]
     },
     "execution_count": 122,
     "metadata": {},
     "output_type": "execute_result"
    }
   ],
   "source": [
    "svm_classifier.score(x_test,y_test)"
   ]
  },
  {
   "cell_type": "code",
   "execution_count": 13,
   "id": "791d1e24",
   "metadata": {},
   "outputs": [],
   "source": [
    "decision_tree_classifier = tree.DecisionTreeClassifier()\n",
    "decision_tree_classifier.fit(x_train, y_train)\n",
    "predictions2 = decision_tree_classifier.predict(x_test)\n",
    "\n",
    "knn_classifier = KNeighborsClassifier()\n",
    "knn_classifier.fit(x_train, y_train)\n",
    "predictions3 = knn_classifier.predict(x_test)\n",
    "\n",
    "random_forest_classifier = RandomForestClassifier()\n",
    "random_forest_classifier.fit(x_train, y_train)\n",
    "predictions4 = random_forest_classifier.predict(x_test)\n"
   ]
  },
  {
   "cell_type": "code",
   "execution_count": 26,
   "id": "58e4dd22",
   "metadata": {},
   "outputs": [
    {
     "name": "stderr",
     "output_type": "stream",
     "text": [
      "C:\\Users\\buitr\\anaconda3\\lib\\site-packages\\sklearn\\base.py:450: UserWarning: X does not have valid feature names, but DecisionTreeClassifier was fitted with feature names\n",
      "  warnings.warn(\n"
     ]
    },
    {
     "data": {
      "text/plain": [
       "array([1], dtype=int64)"
      ]
     },
     "execution_count": 26,
     "metadata": {},
     "output_type": "execute_result"
    }
   ],
   "source": [
    "decision_tree_classifier.predict([[3,2,0,3,1,1]])"
   ]
  },
  {
   "cell_type": "code",
   "execution_count": 124,
   "id": "d1600003",
   "metadata": {
    "scrolled": true
   },
   "outputs": [
    {
     "data": {
      "text/plain": [
       "1.0"
      ]
     },
     "execution_count": 124,
     "metadata": {},
     "output_type": "execute_result"
    }
   ],
   "source": [
    "decision_tree_classifier.score(x_test,y_test)"
   ]
  },
  {
   "cell_type": "code",
   "execution_count": 125,
   "id": "124bcaf8",
   "metadata": {
    "scrolled": true
   },
   "outputs": [
    {
     "data": {
      "text/plain": [
       "0.8666666666666667"
      ]
     },
     "execution_count": 125,
     "metadata": {},
     "output_type": "execute_result"
    }
   ],
   "source": [
    "knn_classifier.score(x_test,y_test)"
   ]
  },
  {
   "cell_type": "code",
   "execution_count": 126,
   "id": "a5988e5f",
   "metadata": {},
   "outputs": [
    {
     "data": {
      "text/plain": [
       "1.0"
      ]
     },
     "execution_count": 126,
     "metadata": {},
     "output_type": "execute_result"
    }
   ],
   "source": [
    "random_forest_classifier.score(x_test,y_test)"
   ]
  }
 ],
 "metadata": {
  "kernelspec": {
   "display_name": "Python 3 (ipykernel)",
   "language": "python",
   "name": "python3"
  },
  "language_info": {
   "codemirror_mode": {
    "name": "ipython",
    "version": 3
   },
   "file_extension": ".py",
   "mimetype": "text/x-python",
   "name": "python",
   "nbconvert_exporter": "python",
   "pygments_lexer": "ipython3",
   "version": "3.9.12"
  }
 },
 "nbformat": 4,
 "nbformat_minor": 5
}
