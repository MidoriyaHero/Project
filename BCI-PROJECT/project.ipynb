{
 "cells": [
  {
   "cell_type": "code",
   "execution_count": 1,
   "metadata": {},
   "outputs": [],
   "source": [
    "import mne\n",
    "import numpy as np\n",
    "import matplotlib.pyplot as plt\n",
    "import pandas as pd\n",
    "import os\n",
    "import os\n",
    "import mne \n",
    "import warnings\n",
    "from sklearn.preprocessing import LabelEncoder, OneHotEncoder\n",
    "import numpy as np\n",
    "from sklearn.ensemble import RandomForestClassifier, BaggingClassifier\n",
    "from sklearn.metrics import accuracy_score\n",
    "from sklearn.pipeline import make_pipeline\n",
    "from sklearn.preprocessing import FunctionTransformer\n",
    "from sklearn.model_selection import train_test_split\n",
    "import glob as glob\n",
    "import cv2\n",
    "import matplotlib.pyplot as plt\n",
    "import numpy as np\n",
    "import mne \n",
    "import shutil\n",
    "from mne.datasets import eegbci\n",
    "from mne.datasets import sleep_physionet\n",
    "import matplotlib.pyplot as plt\n",
    "import pandas as pd\n",
    "from mne.preprocessing import (ICA, corrmap, create_ecg_epochs,\n",
    "                               create_eog_epochs)\n",
    "from sklearn.model_selection import train_test_split\n",
    "from scipy.sparse import coo_matrix\n",
    "from sklearn.ensemble import RandomForestClassifier\n",
    "from sklearn.metrics import accuracy_score\n",
    "from sklearn.metrics import confusion_matrix\n",
    "from sklearn.metrics import classification_report\n",
    "from sklearn.pipeline import make_pipeline\n",
    "from sklearn.preprocessing import FunctionTransformer\n",
    "from sklearn.impute import SimpleImputer\n",
    "from sklearn.discriminant_analysis import LinearDiscriminantAnalysis\n"
   ]
  },
  {
   "cell_type": "code",
   "execution_count": 2,
   "metadata": {},
   "outputs": [],
   "source": [
    "folder_path  = r'F:\\Project BCI\\data2a'"
   ]
  },
  {
   "cell_type": "code",
   "execution_count": 3,
   "metadata": {},
   "outputs": [
    {
     "name": "stderr",
     "output_type": "stream",
     "text": [
      "d:\\File python\\lib\\contextlib.py:142: RuntimeWarning: Channel names are not unique, found duplicates for: {'EEG'}. Applying running numbers for duplicates.\n",
      "  next(self.gen)\n"
     ]
    },
    {
     "name": "stdout",
     "output_type": "stream",
     "text": [
      "<Info | 7 non-empty values\n",
      " bads: []\n",
      " ch_names: EEG-Fz, EEG-0, EEG-1, EEG-2, EEG-3, EEG-4, EEG-5, EEG-C3, EEG-6, ...\n",
      " chs: 25 EEG\n",
      " custom_ref_applied: False\n",
      " highpass: 0.5 Hz\n",
      " lowpass: 100.0 Hz\n",
      " meas_date: 2005-01-19 12:00:00 UTC\n",
      " nchan: 25\n",
      " projs: []\n",
      " sfreq: 250.0 Hz\n",
      ">\n",
      "<Info | 7 non-empty values\n",
      " bads: []\n",
      " ch_names: EEG-Fz, EEG-0, EEG-1, EEG-2, EEG-3, EEG-4, EEG-5, EEG-C3, EEG-6, ...\n",
      " chs: 25 EEG\n",
      " custom_ref_applied: False\n",
      " highpass: 0.5 Hz\n",
      " lowpass: 100.0 Hz\n",
      " meas_date: 2005-01-17 12:00:00 UTC\n",
      " nchan: 25\n",
      " projs: []\n",
      " sfreq: 250.0 Hz\n",
      ">\n"
     ]
    },
    {
     "name": "stderr",
     "output_type": "stream",
     "text": [
      "d:\\File python\\lib\\contextlib.py:142: RuntimeWarning: Channel names are not unique, found duplicates for: {'EEG'}. Applying running numbers for duplicates.\n",
      "  next(self.gen)\n",
      "d:\\File python\\lib\\contextlib.py:142: RuntimeWarning: Channel names are not unique, found duplicates for: {'EEG'}. Applying running numbers for duplicates.\n",
      "  next(self.gen)\n",
      "d:\\File python\\lib\\contextlib.py:142: RuntimeWarning: Channel names are not unique, found duplicates for: {'EEG'}. Applying running numbers for duplicates.\n",
      "  next(self.gen)\n"
     ]
    },
    {
     "name": "stdout",
     "output_type": "stream",
     "text": [
      "<Info | 7 non-empty values\n",
      " bads: []\n",
      " ch_names: EEG-Fz, EEG-0, EEG-1, EEG-2, EEG-3, EEG-4, EEG-5, EEG-C3, EEG-6, ...\n",
      " chs: 25 EEG\n",
      " custom_ref_applied: False\n",
      " highpass: 0.5 Hz\n",
      " lowpass: 100.0 Hz\n",
      " meas_date: 2004-11-16 12:00:00 UTC\n",
      " nchan: 25\n",
      " projs: []\n",
      " sfreq: 250.0 Hz\n",
      ">\n",
      "<Info | 7 non-empty values\n",
      " bads: []\n",
      " ch_names: EEG-Fz, EEG-0, EEG-1, EEG-2, EEG-3, EEG-4, EEG-5, EEG-C3, EEG-6, ...\n",
      " chs: 25 EEG\n",
      " custom_ref_applied: False\n",
      " highpass: 0.5 Hz\n",
      " lowpass: 100.0 Hz\n",
      " meas_date: 2004-11-15 12:00:00 UTC\n",
      " nchan: 25\n",
      " projs: []\n",
      " sfreq: 250.0 Hz\n",
      ">\n",
      "<Info | 7 non-empty values\n",
      " bads: []\n",
      " ch_names: EEG-Fz, EEG-0, EEG-1, EEG-2, EEG-3, EEG-4, EEG-5, EEG-C3, EEG-6, ...\n",
      " chs: 25 EEG\n",
      " custom_ref_applied: False\n",
      " highpass: 0.5 Hz\n",
      " lowpass: 100.0 Hz\n",
      " meas_date: 2004-11-10 12:00:00 UTC\n",
      " nchan: 25\n",
      " projs: []\n",
      " sfreq: 250.0 Hz\n",
      ">\n"
     ]
    },
    {
     "name": "stderr",
     "output_type": "stream",
     "text": [
      "d:\\File python\\lib\\contextlib.py:142: RuntimeWarning: Channel names are not unique, found duplicates for: {'EEG'}. Applying running numbers for duplicates.\n",
      "  next(self.gen)\n",
      "d:\\File python\\lib\\contextlib.py:142: RuntimeWarning: Channel names are not unique, found duplicates for: {'EEG'}. Applying running numbers for duplicates.\n",
      "  next(self.gen)\n",
      "d:\\File python\\lib\\contextlib.py:142: RuntimeWarning: Channel names are not unique, found duplicates for: {'EEG'}. Applying running numbers for duplicates.\n",
      "  next(self.gen)\n"
     ]
    },
    {
     "name": "stdout",
     "output_type": "stream",
     "text": [
      "<Info | 7 non-empty values\n",
      " bads: []\n",
      " ch_names: EEG-Fz, EEG-0, EEG-1, EEG-2, EEG-3, EEG-4, EEG-5, EEG-C3, EEG-6, ...\n",
      " chs: 25 EEG\n",
      " custom_ref_applied: False\n",
      " highpass: 0.5 Hz\n",
      " lowpass: 100.0 Hz\n",
      " meas_date: 2004-11-09 12:00:00 UTC\n",
      " nchan: 25\n",
      " projs: []\n",
      " sfreq: 250.0 Hz\n",
      ">\n",
      "<Info | 7 non-empty values\n",
      " bads: []\n",
      " ch_names: EEG-Fz, EEG-0, EEG-1, EEG-2, EEG-3, EEG-4, EEG-5, EEG-C3, EEG-6, ...\n",
      " chs: 25 EEG\n",
      " custom_ref_applied: False\n",
      " highpass: 0.5 Hz\n",
      " lowpass: 100.0 Hz\n",
      " meas_date: 2004-11-11 12:00:00 UTC\n",
      " nchan: 25\n",
      " projs: []\n",
      " sfreq: 250.0 Hz\n",
      ">\n",
      "<Info | 7 non-empty values\n",
      " bads: []\n",
      " ch_names: EEG-Fz, EEG-0, EEG-1, EEG-2, EEG-3, EEG-4, EEG-5, EEG-C3, EEG-6, ...\n",
      " chs: 25 EEG\n",
      " custom_ref_applied: False\n",
      " highpass: 0.5 Hz\n",
      " lowpass: 100.0 Hz\n",
      " meas_date: 2004-11-08 12:00:00 UTC\n",
      " nchan: 25\n",
      " projs: []\n",
      " sfreq: 250.0 Hz\n",
      ">\n"
     ]
    },
    {
     "name": "stderr",
     "output_type": "stream",
     "text": [
      "d:\\File python\\lib\\contextlib.py:142: RuntimeWarning: Channel names are not unique, found duplicates for: {'EEG'}. Applying running numbers for duplicates.\n",
      "  next(self.gen)\n",
      "d:\\File python\\lib\\contextlib.py:142: RuntimeWarning: Channel names are not unique, found duplicates for: {'EEG'}. Applying running numbers for duplicates.\n",
      "  next(self.gen)\n",
      "d:\\File python\\lib\\contextlib.py:142: RuntimeWarning: Channel names are not unique, found duplicates for: {'EEG'}. Applying running numbers for duplicates.\n",
      "  next(self.gen)\n"
     ]
    },
    {
     "name": "stdout",
     "output_type": "stream",
     "text": [
      "<Info | 7 non-empty values\n",
      " bads: []\n",
      " ch_names: EEG-Fz, EEG-0, EEG-1, EEG-2, EEG-3, EEG-4, EEG-5, EEG-C3, EEG-6, ...\n",
      " chs: 25 EEG\n",
      " custom_ref_applied: False\n",
      " highpass: 0.5 Hz\n",
      " lowpass: 100.0 Hz\n",
      " meas_date: 2004-12-20 12:00:00 UTC\n",
      " nchan: 25\n",
      " projs: []\n",
      " sfreq: 250.0 Hz\n",
      ">\n",
      "<Info | 7 non-empty values\n",
      " bads: []\n",
      " ch_names: EEG-Fz, EEG-0, EEG-1, EEG-2, EEG-3, EEG-4, EEG-5, EEG-C3, EEG-6, ...\n",
      " chs: 25 EEG\n",
      " custom_ref_applied: False\n",
      " highpass: 0.5 Hz\n",
      " lowpass: 100.0 Hz\n",
      " meas_date: 2004-12-16 12:00:00 UTC\n",
      " nchan: 25\n",
      " projs: []\n",
      " sfreq: 250.0 Hz\n",
      ">\n",
      "<Info | 7 non-empty values\n",
      " bads: []\n",
      " ch_names: EEG-Fz, EEG-0, EEG-1, EEG-2, EEG-3, EEG-4, EEG-5, EEG-C3, EEG-6, ...\n",
      " chs: 25 EEG\n",
      " custom_ref_applied: False\n",
      " highpass: 0.5 Hz\n",
      " lowpass: 100.0 Hz\n",
      " meas_date: 2004-12-22 12:00:00 UTC\n",
      " nchan: 25\n",
      " projs: []\n",
      " sfreq: 250.0 Hz\n",
      ">\n"
     ]
    },
    {
     "name": "stderr",
     "output_type": "stream",
     "text": [
      "d:\\File python\\lib\\contextlib.py:142: RuntimeWarning: Channel names are not unique, found duplicates for: {'EEG'}. Applying running numbers for duplicates.\n",
      "  next(self.gen)\n",
      "d:\\File python\\lib\\contextlib.py:142: RuntimeWarning: Channel names are not unique, found duplicates for: {'EEG'}. Applying running numbers for duplicates.\n",
      "  next(self.gen)\n",
      "d:\\File python\\lib\\contextlib.py:142: RuntimeWarning: Channel names are not unique, found duplicates for: {'EEG'}. Applying running numbers for duplicates.\n",
      "  next(self.gen)\n"
     ]
    },
    {
     "name": "stdout",
     "output_type": "stream",
     "text": [
      "<Info | 7 non-empty values\n",
      " bads: []\n",
      " ch_names: EEG-Fz, EEG-0, EEG-1, EEG-2, EEG-3, EEG-4, EEG-5, EEG-C3, EEG-6, ...\n",
      " chs: 25 EEG\n",
      " custom_ref_applied: False\n",
      " highpass: 0.5 Hz\n",
      " lowpass: 100.0 Hz\n",
      " meas_date: 2004-12-20 12:00:00 UTC\n",
      " nchan: 25\n",
      " projs: []\n",
      " sfreq: 250.0 Hz\n",
      ">\n",
      "<Info | 7 non-empty values\n",
      " bads: []\n",
      " ch_names: EEG-Fz, EEG-0, EEG-1, EEG-2, EEG-3, EEG-4, EEG-5, EEG-C3, EEG-6, ...\n",
      " chs: 25 EEG\n",
      " custom_ref_applied: False\n",
      " highpass: 0.5 Hz\n",
      " lowpass: 100.0 Hz\n",
      " meas_date: 2004-12-07 12:00:00 UTC\n",
      " nchan: 25\n",
      " projs: []\n",
      " sfreq: 250.0 Hz\n",
      ">\n",
      "<Info | 7 non-empty values\n",
      " bads: []\n",
      " ch_names: EEG-Fz, EEG-0, EEG-1, EEG-2, EEG-3, EEG-4, EEG-5, EEG-C3, EEG-6, ...\n",
      " chs: 25 EEG\n",
      " custom_ref_applied: False\n",
      " highpass: 0.5 Hz\n",
      " lowpass: 100.0 Hz\n",
      " meas_date: 2004-12-02 12:00:00 UTC\n",
      " nchan: 25\n",
      " projs: []\n",
      " sfreq: 250.0 Hz\n",
      ">\n"
     ]
    },
    {
     "name": "stderr",
     "output_type": "stream",
     "text": [
      "d:\\File python\\lib\\contextlib.py:142: RuntimeWarning: Channel names are not unique, found duplicates for: {'EEG'}. Applying running numbers for duplicates.\n",
      "  next(self.gen)\n",
      "d:\\File python\\lib\\contextlib.py:142: RuntimeWarning: Channel names are not unique, found duplicates for: {'EEG'}. Applying running numbers for duplicates.\n",
      "  next(self.gen)\n",
      "d:\\File python\\lib\\contextlib.py:142: RuntimeWarning: Channel names are not unique, found duplicates for: {'EEG'}. Applying running numbers for duplicates.\n",
      "  next(self.gen)\n"
     ]
    },
    {
     "name": "stdout",
     "output_type": "stream",
     "text": [
      "<Info | 7 non-empty values\n",
      " bads: []\n",
      " ch_names: EEG-Fz, EEG-0, EEG-1, EEG-2, EEG-3, EEG-4, EEG-5, EEG-C3, EEG-6, ...\n",
      " chs: 25 EEG\n",
      " custom_ref_applied: False\n",
      " highpass: 0.5 Hz\n",
      " lowpass: 100.0 Hz\n",
      " meas_date: 2004-11-22 12:00:00 UTC\n",
      " nchan: 25\n",
      " projs: []\n",
      " sfreq: 250.0 Hz\n",
      ">\n",
      "<Info | 7 non-empty values\n",
      " bads: []\n",
      " ch_names: EEG-Fz, EEG-0, EEG-1, EEG-2, EEG-3, EEG-4, EEG-5, EEG-C3, EEG-6, ...\n",
      " chs: 25 EEG\n",
      " custom_ref_applied: False\n",
      " highpass: 0.5 Hz\n",
      " lowpass: 100.0 Hz\n",
      " meas_date: 2004-11-18 12:00:00 UTC\n",
      " nchan: 25\n",
      " projs: []\n",
      " sfreq: 250.0 Hz\n",
      ">\n",
      "<Info | 7 non-empty values\n",
      " bads: []\n",
      " ch_names: EEG-Fz, EEG-0, EEG-1, EEG-2, EEG-3, EEG-4, EEG-5, EEG-C3, EEG-6, ...\n",
      " chs: 25 EEG\n",
      " custom_ref_applied: False\n",
      " highpass: 0.5 Hz\n",
      " lowpass: 100.0 Hz\n",
      " meas_date: 2004-11-23 12:00:00 UTC\n",
      " nchan: 25\n",
      " projs: []\n",
      " sfreq: 250.0 Hz\n",
      ">\n",
      "<Info | 7 non-empty values\n",
      " bads: []\n",
      " ch_names: EEG-Fz, EEG-0, EEG-1, EEG-2, EEG-3, EEG-4, EEG-5, EEG-C3, EEG-6, ...\n",
      " chs: 25 EEG\n",
      " custom_ref_applied: False\n",
      " highpass: 0.5 Hz\n",
      " lowpass: 100.0 Hz\n",
      " meas_date: 2004-11-16 12:00:00 UTC\n",
      " nchan: 25\n",
      " projs: []\n",
      " sfreq: 250.0 Hz\n",
      ">\n"
     ]
    },
    {
     "name": "stderr",
     "output_type": "stream",
     "text": [
      "d:\\File python\\lib\\contextlib.py:142: RuntimeWarning: Channel names are not unique, found duplicates for: {'EEG'}. Applying running numbers for duplicates.\n",
      "  next(self.gen)\n",
      "d:\\File python\\lib\\contextlib.py:142: RuntimeWarning: Channel names are not unique, found duplicates for: {'EEG'}. Applying running numbers for duplicates.\n",
      "  next(self.gen)\n"
     ]
    }
   ],
   "source": [
    "# Use the os module to get a list of all .gdf files in the folder\n",
    "file_list = [file for file in os.listdir(folder_path) if file.endswith('.gdf')]\n",
    "\n",
    "# Iterate over the file list and read each .gdf file using MNE\n",
    "for file_name in file_list:\n",
    "    file_path = os.path.join(folder_path, file_name)\n",
    "    raw = mne.io.read_raw_gdf(file_path, preload= False, verbose=0, )\n",
    "    # Process the raw data as needed\n",
    "    print(raw.info)  # Example: printing the raw data info\n",
    "    # Additional processing or analysis with the raw data can be done here"
   ]
  },
  {
   "cell_type": "code",
   "execution_count": 4,
   "metadata": {},
   "outputs": [
    {
     "name": "stderr",
     "output_type": "stream",
     "text": [
      "d:\\File python\\lib\\contextlib.py:142: RuntimeWarning: Channel names are not unique, found duplicates for: {'EEG'}. Applying running numbers for duplicates.\n",
      "  next(self.gen)\n",
      "d:\\File python\\lib\\contextlib.py:142: RuntimeWarning: Channel names are not unique, found duplicates for: {'EEG'}. Applying running numbers for duplicates.\n",
      "  next(self.gen)\n",
      "d:\\File python\\lib\\contextlib.py:142: RuntimeWarning: Channel names are not unique, found duplicates for: {'EEG'}. Applying running numbers for duplicates.\n",
      "  next(self.gen)\n",
      "d:\\File python\\lib\\contextlib.py:142: RuntimeWarning: Channel names are not unique, found duplicates for: {'EEG'}. Applying running numbers for duplicates.\n",
      "  next(self.gen)\n",
      "d:\\File python\\lib\\contextlib.py:142: RuntimeWarning: Channel names are not unique, found duplicates for: {'EEG'}. Applying running numbers for duplicates.\n",
      "  next(self.gen)\n",
      "d:\\File python\\lib\\contextlib.py:142: RuntimeWarning: Channel names are not unique, found duplicates for: {'EEG'}. Applying running numbers for duplicates.\n",
      "  next(self.gen)\n",
      "d:\\File python\\lib\\contextlib.py:142: RuntimeWarning: Channel names are not unique, found duplicates for: {'EEG'}. Applying running numbers for duplicates.\n",
      "  next(self.gen)\n",
      "d:\\File python\\lib\\contextlib.py:142: RuntimeWarning: Channel names are not unique, found duplicates for: {'EEG'}. Applying running numbers for duplicates.\n",
      "  next(self.gen)\n",
      "d:\\File python\\lib\\contextlib.py:142: RuntimeWarning: Channel names are not unique, found duplicates for: {'EEG'}. Applying running numbers for duplicates.\n",
      "  next(self.gen)\n",
      "d:\\File python\\lib\\contextlib.py:142: RuntimeWarning: Channel names are not unique, found duplicates for: {'EEG'}. Applying running numbers for duplicates.\n",
      "  next(self.gen)\n",
      "d:\\File python\\lib\\contextlib.py:142: RuntimeWarning: Channel names are not unique, found duplicates for: {'EEG'}. Applying running numbers for duplicates.\n",
      "  next(self.gen)\n",
      "d:\\File python\\lib\\contextlib.py:142: RuntimeWarning: Channel names are not unique, found duplicates for: {'EEG'}. Applying running numbers for duplicates.\n",
      "  next(self.gen)\n",
      "d:\\File python\\lib\\contextlib.py:142: RuntimeWarning: Channel names are not unique, found duplicates for: {'EEG'}. Applying running numbers for duplicates.\n",
      "  next(self.gen)\n",
      "d:\\File python\\lib\\contextlib.py:142: RuntimeWarning: Channel names are not unique, found duplicates for: {'EEG'}. Applying running numbers for duplicates.\n",
      "  next(self.gen)\n",
      "d:\\File python\\lib\\contextlib.py:142: RuntimeWarning: Channel names are not unique, found duplicates for: {'EEG'}. Applying running numbers for duplicates.\n",
      "  next(self.gen)\n",
      "d:\\File python\\lib\\contextlib.py:142: RuntimeWarning: Channel names are not unique, found duplicates for: {'EEG'}. Applying running numbers for duplicates.\n",
      "  next(self.gen)\n",
      "d:\\File python\\lib\\contextlib.py:142: RuntimeWarning: Channel names are not unique, found duplicates for: {'EEG'}. Applying running numbers for duplicates.\n",
      "  next(self.gen)\n",
      "d:\\File python\\lib\\contextlib.py:142: RuntimeWarning: Channel names are not unique, found duplicates for: {'EEG'}. Applying running numbers for duplicates.\n",
      "  next(self.gen)\n"
     ]
    }
   ],
   "source": [
    "raw_list = []\n",
    "for f in file_list:\n",
    "    raw = mne.io.read_raw_gdf(os.path.join(folder_path , f), preload=True, verbose=0)\n",
    "    raw_list.append(raw)\n",
    "\n",
    "# Merge raw objects\n",
    "raw = mne.concatenate_raws(raw_list)"
   ]
  },
  {
   "cell_type": "code",
   "execution_count": 5,
   "metadata": {},
   "outputs": [
    {
     "data": {
      "text/html": [
       "<table class=\"table table-hover table-striped table-sm table-responsive small\">\n",
       "    <tr>\n",
       "        <th>Measurement date</th>\n",
       "        \n",
       "        <td>January 19, 2005  12:00:00 GMT</td>\n",
       "        \n",
       "    </tr>\n",
       "    <tr>\n",
       "        <th>Experimenter</th>\n",
       "        \n",
       "        <td>Unknown</td>\n",
       "        \n",
       "    </tr>\n",
       "        <th>Participant</th>\n",
       "        \n",
       "        <td>Unknown</td>\n",
       "        \n",
       "    </tr>\n",
       "    <tr>\n",
       "        <th>Digitized points</th>\n",
       "        \n",
       "        <td>Not available</td>\n",
       "        \n",
       "    </tr>\n",
       "    <tr>\n",
       "        <th>Good channels</th>\n",
       "        <td>22 EEG</td>\n",
       "    </tr>\n",
       "    <tr>\n",
       "        <th>Bad channels</th>\n",
       "        <td>None</td>\n",
       "    </tr>\n",
       "    <tr>\n",
       "        <th>EOG channels</th>\n",
       "        <td>Not available</td>\n",
       "    </tr>\n",
       "    <tr>\n",
       "        <th>ECG channels</th>\n",
       "        <td>Not available</td>\n",
       "    \n",
       "    <tr>\n",
       "        <th>Sampling frequency</th>\n",
       "        <td>250.00 Hz</td>\n",
       "    </tr>\n",
       "    \n",
       "    \n",
       "    <tr>\n",
       "        <th>Highpass</th>\n",
       "        <td>0.50 Hz</td>\n",
       "    </tr>\n",
       "    \n",
       "    \n",
       "    <tr>\n",
       "        <th>Lowpass</th>\n",
       "        <td>100.00 Hz</td>\n",
       "    </tr>\n",
       "    \n",
       "    \n",
       "    \n",
       "    <tr>\n",
       "        <th>Filenames</th>\n",
       "        <td>A01E.gdf&lt;br&gt;A01T.gdf&lt;br&gt;A02E.gdf&lt;br&gt;A02T.gdf&lt;br&gt;A03E.gdf&lt;br&gt;A03T.gdf&lt;br&gt;A04E.gdf&lt;br&gt;A04T.gdf&lt;br&gt;A05E.gdf&lt;br&gt;A05T.gdf&lt;br&gt;A06E.gdf&lt;br&gt;A06T.gdf&lt;br&gt;A07E.gdf&lt;br&gt;A07T.gdf&lt;br&gt;A08E.gdf&lt;br&gt;A08T.gdf&lt;br&gt;A09E.gdf&lt;br&gt;A09T.gdf</td>\n",
       "    </tr>\n",
       "    \n",
       "    <tr>\n",
       "        <th>Duration</th>\n",
       "        <td>13:23:07 (HH:MM:SS)</td>\n",
       "    </tr>\n",
       "</table>"
      ],
      "text/plain": [
       "<RawGDF | A01E.gdf, 22 x 12046660 (48186.6 s), ~1.97 GB, data loaded>"
      ]
     },
     "execution_count": 5,
     "metadata": {},
     "output_type": "execute_result"
    }
   ],
   "source": [
    "available_channels = raw.info['ch_names']\n",
    "channel_names = ['EEG-Fz', 'EEG-0', 'EEG-1', 'EEG-2', 'EEG-3', 'EEG-4', 'EEG-5', 'EEG-C3', 'EEG-6', 'EEG-Cz', 'EEG-7', 'EEG-C4', 'EEG-8', 'EEG-9', 'EEG-10', 'EEG-11', 'EEG-12', 'EEG-13', 'EEG-14', 'EEG-Pz', 'EEG-15', 'EEG-16', 'EOG-left', 'EOG-central', 'EOG-right']\n",
    "\n",
    "# Find the actual channel names in info\n",
    "actual_channel_names = [ch_name for ch_name in channel_names if ch_name in available_channels]\n",
    "\n",
    "# Set channel types for the actual channel names\n",
    "channel_types = ['eeg'] * len(actual_channel_names)\n",
    "# Set the EOG channel types\n",
    "eog_channels = ['EOG-left', 'EOG-central', 'EOG-right']\n",
    "for ch_name in eog_channels:\n",
    "    if ch_name in available_channels:\n",
    "        actual_channel_names.append(ch_name)\n",
    "        channel_types.append('eog')\n",
    "\n",
    "raw.set_channel_types(dict(zip(actual_channel_names, channel_types)))\n",
    "raw.pick_types(eeg=True)"
   ]
  },
  {
   "cell_type": "code",
   "execution_count": 6,
   "metadata": {},
   "outputs": [],
   "source": [
    "# Form the 10-20 montage\n",
    "# mont1020 = mne.channels.make_standard_montage('standard_1020')\n",
    "# Choose what channels you want to keep \n",
    "# Make sure that these channels exist e.g. T1 does not exist in the standard 10-20 EEG system!\n",
    "# kept_channels = ['C3', 'C4', 'Fz', 'Cz', 'Pz']\n",
    "# ind = [i for (i, channel) in enumerate(mont1020.ch_names) if channel in kept_channels]\n",
    "# mont1020_new = mont1020.copy()\n",
    "# Keep only the desired channels\n",
    "# mont1020_new.ch_names = [mont1020.ch_names[x] for x in ind]\n",
    "# kept_channel_info = [mont1020.dig[x+3] for x in ind]\n",
    "# Keep the first three rows as they are the fiducial points information\n",
    "# mont1020_new.dig = mont1020.dig[0:3]+kept_channel_info"
   ]
  },
  {
   "cell_type": "code",
   "execution_count": 7,
   "metadata": {},
   "outputs": [],
   "source": [
    "# List of channels to be removed\n",
    "# channels_to_remove = ['EEG-Fz', 'EEG-C3', 'EEG-Cz', 'EEG-C4', 'EEG-Pz']\n",
    "\n",
    "# Remove the specified channels\n",
    "# raw.drop_channels(channels_to_remove)"
   ]
  },
  {
   "cell_type": "code",
   "execution_count": 8,
   "metadata": {},
   "outputs": [
    {
     "name": "stdout",
     "output_type": "stream",
     "text": [
      "Filtering raw data in 18 contiguous segments\n",
      "Setting up band-pass filter from 0.5 - 1e+02 Hz\n",
      "\n",
      "FIR filter parameters\n",
      "---------------------\n",
      "Designing a one-pass, zero-phase, non-causal bandpass filter:\n",
      "- Windowed time-domain design (firwin) method\n",
      "- Hamming window with 0.0194 passband ripple and 53 dB stopband attenuation\n",
      "- Lower passband edge: 0.50\n",
      "- Lower transition bandwidth: 0.50 Hz (-6 dB cutoff frequency: 0.25 Hz)\n",
      "- Upper passband edge: 100.00 Hz\n",
      "- Upper transition bandwidth: 25.00 Hz (-6 dB cutoff frequency: 112.50 Hz)\n",
      "- Filter length: 1651 samples (6.604 sec)\n",
      "\n"
     ]
    },
    {
     "name": "stderr",
     "output_type": "stream",
     "text": [
      "[Parallel(n_jobs=1)]: Using backend SequentialBackend with 1 concurrent workers.\n",
      "[Parallel(n_jobs=1)]: Done   1 out of   1 | elapsed:    0.0s remaining:    0.0s\n",
      "[Parallel(n_jobs=1)]: Done   2 out of   2 | elapsed:    0.0s remaining:    0.0s\n",
      "[Parallel(n_jobs=1)]: Done   3 out of   3 | elapsed:    0.0s remaining:    0.0s\n",
      "[Parallel(n_jobs=1)]: Done   4 out of   4 | elapsed:    0.1s remaining:    0.0s\n",
      "[Parallel(n_jobs=1)]: Done  22 out of  22 | elapsed:    0.5s finished\n"
     ]
    },
    {
     "name": "stdout",
     "output_type": "stream",
     "text": [
      "EEG channel type selected for re-referencing\n",
      "Applying average reference.\n",
      "Applying a custom ('EEG',) reference.\n",
      "Setting up band-stop filter from 49 - 51 Hz\n",
      "\n",
      "FIR filter parameters\n",
      "---------------------\n",
      "Designing a one-pass, zero-phase, non-causal bandstop filter:\n",
      "- Windowed time-domain design (firwin) method\n",
      "- Hamming window with 0.0194 passband ripple and 53 dB stopband attenuation\n",
      "- Lower passband edge: 49.38\n",
      "- Lower transition bandwidth: 0.50 Hz (-6 dB cutoff frequency: 49.12 Hz)\n",
      "- Upper passband edge: 50.62 Hz\n",
      "- Upper transition bandwidth: 0.50 Hz (-6 dB cutoff frequency: 50.88 Hz)\n",
      "- Filter length: 1651 samples (6.604 sec)\n",
      "\n"
     ]
    },
    {
     "name": "stderr",
     "output_type": "stream",
     "text": [
      "[Parallel(n_jobs=1)]: Using backend SequentialBackend with 1 concurrent workers.\n",
      "[Parallel(n_jobs=1)]: Done   1 out of   1 | elapsed:    0.6s remaining:    0.0s\n",
      "[Parallel(n_jobs=1)]: Done   2 out of   2 | elapsed:    1.0s remaining:    0.0s\n",
      "[Parallel(n_jobs=1)]: Done   3 out of   3 | elapsed:    1.6s remaining:    0.0s\n",
      "[Parallel(n_jobs=1)]: Done   4 out of   4 | elapsed:    2.0s remaining:    0.0s\n",
      "[Parallel(n_jobs=1)]: Done  22 out of  22 | elapsed:   10.8s finished\n"
     ]
    },
    {
     "data": {
      "text/html": [
       "<table class=\"table table-hover table-striped table-sm table-responsive small\">\n",
       "    <tr>\n",
       "        <th>Measurement date</th>\n",
       "        \n",
       "        <td>January 19, 2005  12:00:00 GMT</td>\n",
       "        \n",
       "    </tr>\n",
       "    <tr>\n",
       "        <th>Experimenter</th>\n",
       "        \n",
       "        <td>Unknown</td>\n",
       "        \n",
       "    </tr>\n",
       "        <th>Participant</th>\n",
       "        \n",
       "        <td>Unknown</td>\n",
       "        \n",
       "    </tr>\n",
       "    <tr>\n",
       "        <th>Digitized points</th>\n",
       "        \n",
       "        <td>Not available</td>\n",
       "        \n",
       "    </tr>\n",
       "    <tr>\n",
       "        <th>Good channels</th>\n",
       "        <td>22 EEG</td>\n",
       "    </tr>\n",
       "    <tr>\n",
       "        <th>Bad channels</th>\n",
       "        <td>None</td>\n",
       "    </tr>\n",
       "    <tr>\n",
       "        <th>EOG channels</th>\n",
       "        <td>Not available</td>\n",
       "    </tr>\n",
       "    <tr>\n",
       "        <th>ECG channels</th>\n",
       "        <td>Not available</td>\n",
       "    \n",
       "    <tr>\n",
       "        <th>Sampling frequency</th>\n",
       "        <td>250.00 Hz</td>\n",
       "    </tr>\n",
       "    \n",
       "    \n",
       "    <tr>\n",
       "        <th>Highpass</th>\n",
       "        <td>0.50 Hz</td>\n",
       "    </tr>\n",
       "    \n",
       "    \n",
       "    <tr>\n",
       "        <th>Lowpass</th>\n",
       "        <td>100.00 Hz</td>\n",
       "    </tr>\n",
       "    \n",
       "    \n",
       "    \n",
       "    <tr>\n",
       "        <th>Filenames</th>\n",
       "        <td>A01E.gdf&lt;br&gt;A01T.gdf&lt;br&gt;A02E.gdf&lt;br&gt;A02T.gdf&lt;br&gt;A03E.gdf&lt;br&gt;A03T.gdf&lt;br&gt;A04E.gdf&lt;br&gt;A04T.gdf&lt;br&gt;A05E.gdf&lt;br&gt;A05T.gdf&lt;br&gt;A06E.gdf&lt;br&gt;A06T.gdf&lt;br&gt;A07E.gdf&lt;br&gt;A07T.gdf&lt;br&gt;A08E.gdf&lt;br&gt;A08T.gdf&lt;br&gt;A09E.gdf&lt;br&gt;A09T.gdf</td>\n",
       "    </tr>\n",
       "    \n",
       "    <tr>\n",
       "        <th>Duration</th>\n",
       "        <td>13:23:07 (HH:MM:SS)</td>\n",
       "    </tr>\n",
       "</table>"
      ],
      "text/plain": [
       "<RawGDF | A01E.gdf, 22 x 12046660 (48186.6 s), ~1.97 GB, data loaded>"
      ]
     },
     "execution_count": 8,
     "metadata": {},
     "output_type": "execute_result"
    }
   ],
   "source": [
    "raw.filter(l_freq=0.5, h_freq=100,picks=['eeg'],fir_design=\"firwin\")\n",
    "raw.set_eeg_reference('average')\n",
    "# raw.rename_channels(lambda x: x.strip(\".\"))  # remove dots from channel names\n",
    "raw.notch_filter(50)"
   ]
  },
  {
   "cell_type": "code",
   "execution_count": 9,
   "metadata": {},
   "outputs": [],
   "source": [
    "# from mne.preprocessing import (ICA, corrmap, create_ecg_epochs,\n",
    " #                              create_eog_epochs)\n",
    "\n",
    "# picks = mne.pick_types(raw.info, eeg=True) \n",
    "\n",
    "# Initialize ICA object\n",
    "# ica = mne.preprocessing.ICA(n_components=25, random_state=42)\n",
    "\n",
    "# Fit ICA to data\n",
    "# ica.fit(raw, picks=picks)\n",
    "\n",
    "# Apply ICA to data\n",
    "# ica.apply(raw)"
   ]
  },
  {
   "cell_type": "code",
   "execution_count": 10,
   "metadata": {},
   "outputs": [
    {
     "name": "stdout",
     "output_type": "stream",
     "text": [
      "the (cropped) sample data object has 12046660 time samples and 22 channels.\n",
      "The last time sample is at 48186.636 seconds.\n",
      "The first few channel names are EEG-Fz, EEG-0, EEG-1.\n",
      "\n",
      "bad channels: []\n",
      "250.0 Hz\n",
      "None \n",
      "\n",
      "<Info | 8 non-empty values\n",
      " bads: []\n",
      " ch_names: EEG-Fz, EEG-0, EEG-1, EEG-2, EEG-3, EEG-4, EEG-5, EEG-C3, EEG-6, ...\n",
      " chs: 22 EEG\n",
      " custom_ref_applied: True\n",
      " highpass: 0.5 Hz\n",
      " lowpass: 100.0 Hz\n",
      " meas_date: 2005-01-19 12:00:00 UTC\n",
      " nchan: 22\n",
      " projs: []\n",
      " sfreq: 250.0 Hz\n",
      ">\n"
     ]
    }
   ],
   "source": [
    "n_time_samps = raw.n_times\n",
    "time_secs = raw.times\n",
    "ch_names = raw.ch_names\n",
    "n_chan = len(ch_names)  # note: there is no raw.n_channels attribute\n",
    "print('the (cropped) sample data object has {} time samples and {} channels.'\n",
    "      ''.format(n_time_samps, n_chan))\n",
    "print('The last time sample is at {} seconds.'.format(time_secs[-1]))\n",
    "print('The first few channel names are {}.'.format(', '.join(ch_names[:3])))\n",
    "print()  # insert a blank line in the output\n",
    "\n",
    "# some examples of raw.info:\n",
    "print('bad channels:', raw.info['bads'])  # chs marked \"bad\" during acquisition\n",
    "print(raw.info['sfreq'], 'Hz')            # sampling frequency\n",
    "print(raw.info['description'], '\\n')      # miscellaneous acquisition info\n",
    "\n",
    "print(raw.info)"
   ]
  },
  {
   "cell_type": "code",
   "execution_count": 11,
   "metadata": {},
   "outputs": [
    {
     "name": "stdout",
     "output_type": "stream",
     "text": [
      "(22, 12046660)\n",
      "(12046660,)\n"
     ]
    }
   ],
   "source": [
    "data, times = raw.get_data(return_times=True)\n",
    "print(data.shape)\n",
    "print(times.shape)"
   ]
  },
  {
   "cell_type": "code",
   "execution_count": 12,
   "metadata": {},
   "outputs": [],
   "source": [
    "# raw.plot(scalings=dict(eeg=100e-6))"
   ]
  },
  {
   "cell_type": "code",
   "execution_count": 13,
   "metadata": {},
   "outputs": [
    {
     "data": {
      "text/plain": [
       "['EEG-Fz',\n",
       " 'EEG-0',\n",
       " 'EEG-1',\n",
       " 'EEG-2',\n",
       " 'EEG-3',\n",
       " 'EEG-4',\n",
       " 'EEG-5',\n",
       " 'EEG-C3',\n",
       " 'EEG-6',\n",
       " 'EEG-Cz',\n",
       " 'EEG-7',\n",
       " 'EEG-C4',\n",
       " 'EEG-8',\n",
       " 'EEG-9',\n",
       " 'EEG-10',\n",
       " 'EEG-11',\n",
       " 'EEG-12',\n",
       " 'EEG-13',\n",
       " 'EEG-14',\n",
       " 'EEG-Pz',\n",
       " 'EEG-15',\n",
       " 'EEG-16']"
      ]
     },
     "execution_count": 13,
     "metadata": {},
     "output_type": "execute_result"
    }
   ],
   "source": [
    "# Get the channel names from the raw data\n",
    "ch_names = raw.info['ch_names']\n",
    "ch_names"
   ]
  },
  {
   "cell_type": "code",
   "execution_count": 14,
   "metadata": {},
   "outputs": [],
   "source": [
    "event_id = {\n",
    "    \"Left hand\": 7,\n",
    "    \"Right hand\": 8,\n",
    "    \"Foot\": 9,\n",
    "    \"Tongue\": 10\n",
    "}"
   ]
  },
  {
   "cell_type": "code",
   "execution_count": 15,
   "metadata": {},
   "outputs": [
    {
     "name": "stdout",
     "output_type": "stream",
     "text": [
      "['32766' '276' '32766' ... '770' '768' '771']\n"
     ]
    }
   ],
   "source": [
    "print(raw.annotations.description)"
   ]
  },
  {
   "cell_type": "code",
   "execution_count": 16,
   "metadata": {},
   "outputs": [
    {
     "name": "stdout",
     "output_type": "stream",
     "text": [
      "Used Annotations descriptions: ['1023', '1072', '276', '277', '32766', '768', '769', '770', '771', '772', '783']\n",
      "{'1023': 1, '1072': 2, '276': 3, '277': 4, '32766': 5, '768': 6, '769': 7, '770': 8, '771': 9, '772': 10, '783': 11}\n",
      "[[    0     0     5]\n",
      " [    0     0     3]\n",
      " [34291     0     5]\n",
      " [34291     0     4]\n",
      " [68850     0     5]]\n"
     ]
    }
   ],
   "source": [
    "events, event_dict = mne.events_from_annotations(raw)\n",
    "print(event_dict)\n",
    "print(events[:5])"
   ]
  },
  {
   "cell_type": "code",
   "execution_count": 17,
   "metadata": {},
   "outputs": [
    {
     "name": "stdout",
     "output_type": "stream",
     "text": [
      "[5000]\n",
      "[ 5000  7500 10000] \n",
      "\n",
      "[250 250]\n"
     ]
    }
   ],
   "source": [
    "print(raw.time_as_index(20))\n",
    "print(raw.time_as_index([20, 30, 40]), '\\n')\n",
    "print(np.diff(raw.time_as_index([1, 2, 3])))"
   ]
  },
  {
   "cell_type": "code",
   "execution_count": 51,
   "metadata": {},
   "outputs": [],
   "source": [
    "from sklearn.decomposition import PCA\n",
    "\n",
    "def eeg_power_band(epochs):\n",
    "    \"\"\"EEG relative power band feature extraction.\n",
    "\n",
    "    This function takes an ``mne.Epochs`` object and creates EEG features based\n",
    "    on relative power in specific frequency bands that are compatible with\n",
    "    scikit-learn.\n",
    "\n",
    "    Parameters\n",
    "    ----------\n",
    "    epochs : Epochs\n",
    "        The data.\n",
    "\n",
    "    Returns\n",
    "    -------\n",
    "    X : numpy array of shape [n_samples, 5]\n",
    "        Transformed data.\n",
    "    \"\"\"\n",
    "    # specific frequency bands\n",
    "    FREQ_BANDS = {\"delta\": [0.3, 4],\n",
    "                  \"theta\": [4, 8],\n",
    "                  \"alpha\": [8, 13],\n",
    "                  \"sigma\": [11.5, 15.5],\n",
    "                  \"beta\": [13, 30]}\n",
    "\n",
    "    spectrum = epochs.compute_psd(picks=raw.info['ch_names'], fmin=0.5, fmax=100., n_jobs=1)\n",
    "    psds, freqs = spectrum.get_data(return_freqs=True)\n",
    "    # Normalize the PSDs\n",
    "    psds /= np.sum(psds, axis=-1, keepdims=True)\n",
    "\n",
    "    X = []\n",
    "    for fmin, fmax in FREQ_BANDS.values():\n",
    "        psds_band = psds[:, :, (freqs >= fmin) & (freqs < fmax)].mean(axis=-1)\n",
    "        X.append(psds_band.reshape(len(psds), -1))\n",
    "\n",
    "    X = np.concatenate(X, axis=1)\n",
    "\n",
    "    # Apply PCA\n",
    "    pca = PCA(n_components=22)  # Choose the desired number of components\n",
    "    X_pca = pca.fit_transform(X)\n",
    "\n",
    "    return X_pca"
   ]
  },
  {
   "cell_type": "code",
   "execution_count": 52,
   "metadata": {},
   "outputs": [],
   "source": [
    "# set epoching parameters\n",
    "# tmin=3 \n",
    "# tmax = 30. - 1. / raw.info['sfreq']  # tmax in included\n",
    "# baseline = None\n",
    "# tmax = int(raw.info['sfreq'])\n",
    "tmin = 3.0  # Set the start time to 3 seconds\n",
    "tmax = 6.0  # Set the end time to 6 seconds\n",
    "baseline = None  # No baseline correction"
   ]
  },
  {
   "cell_type": "code",
   "execution_count": 53,
   "metadata": {},
   "outputs": [
    {
     "name": "stdout",
     "output_type": "stream",
     "text": [
      "Not setting metadata\n",
      "2592 matching events found\n",
      "No baseline correction applied\n",
      "0 projection items activated\n",
      "Using data from preloaded Raw for 2592 events and 751 original time points ...\n",
      "9 bad epochs dropped\n",
      "Subtracting Evoked from Epochs\n",
      "[done]\n"
     ]
    },
    {
     "data": {
      "text/html": [
       "<table class=\"table table-hover table-striped table-sm table-responsive small\">\n",
       "    <tr>\n",
       "        <th>Number of events</th>\n",
       "        <td>2583</td>\n",
       "    </tr>\n",
       "    <tr>\n",
       "        <th>Events</th>\n",
       "        \n",
       "        <td>Foot: 641<br/>Left hand: 646<br/>Right hand: 648<br/>Tongue: 648</td>\n",
       "        \n",
       "    </tr>\n",
       "    <tr>\n",
       "        <th>Time range</th>\n",
       "        <td>3.000 – 6.000 sec</td>\n",
       "    </tr>\n",
       "    <tr>\n",
       "        <th>Baseline</th>\n",
       "        <td>off</td>\n",
       "    </tr>\n",
       "</table>"
      ],
      "text/plain": [
       "<Epochs |  2583 events (all good), 3 - 6 sec, baseline off, ~325.6 MB, data loaded,\n",
       " 'Left hand': 646\n",
       " 'Right hand': 648\n",
       " 'Foot': 641\n",
       " 'Tongue': 648>"
      ]
     },
     "execution_count": 53,
     "metadata": {},
     "output_type": "execute_result"
    }
   ],
   "source": [
    "epochs = mne.Epochs(\n",
    "        raw,\n",
    "        events,\n",
    "        event_id,\n",
    "        tmin,\n",
    "        tmax,\n",
    "        baseline=baseline,\n",
    "        preload=True,\n",
    "    )\n",
    "    # remove evoked response\n",
    "epochs.subtract_evoked()"
   ]
  },
  {
   "cell_type": "code",
   "execution_count": 54,
   "metadata": {},
   "outputs": [
    {
     "name": "stdout",
     "output_type": "stream",
     "text": [
      "Setting up band-pass filter from 0.5 - 1e+02 Hz\n",
      "\n",
      "FIR filter parameters\n",
      "---------------------\n",
      "Designing a one-pass, zero-phase, non-causal bandpass filter:\n",
      "- Windowed time-domain design (firwin) method\n",
      "- Hamming window with 0.0194 passband ripple and 53 dB stopband attenuation\n",
      "- Lower passband edge: 0.50\n",
      "- Lower transition bandwidth: 0.50 Hz (-6 dB cutoff frequency: 0.25 Hz)\n",
      "- Upper passband edge: 100.00 Hz\n",
      "- Upper transition bandwidth: 25.00 Hz (-6 dB cutoff frequency: 112.50 Hz)\n",
      "- Filter length: 1651 samples (6.604 sec)\n",
      "\n"
     ]
    },
    {
     "name": "stderr",
     "output_type": "stream",
     "text": [
      "C:\\Users\\NguyenDucHuy\\AppData\\Local\\Temp\\ipykernel_15432\\3021861271.py:2: RuntimeWarning: filter_length (1651) is longer than the signal (751), distortion is likely. Reduce filter length or filter a longer signal.\n",
      "  epochs.filter(l_freq=0.5, h_freq=100)\n",
      "[Parallel(n_jobs=1)]: Using backend SequentialBackend with 1 concurrent workers.\n",
      "[Parallel(n_jobs=1)]: Done   1 out of   1 | elapsed:    0.0s remaining:    0.0s\n",
      "[Parallel(n_jobs=1)]: Done   2 out of   2 | elapsed:    0.0s remaining:    0.0s\n",
      "[Parallel(n_jobs=1)]: Done   3 out of   3 | elapsed:    0.0s remaining:    0.0s\n",
      "[Parallel(n_jobs=1)]: Done   4 out of   4 | elapsed:    0.0s remaining:    0.0s\n",
      "[Parallel(n_jobs=1)]: Done 56826 out of 56826 | elapsed:  1.5min finished\n"
     ]
    },
    {
     "name": "stdout",
     "output_type": "stream",
     "text": [
      "<Epochs |  2583 events (all good), 3 - 6 sec, baseline off, ~325.6 MB, data loaded,\n",
      " 'Left hand': 646\n",
      " 'Right hand': 648\n",
      " 'Foot': 641\n",
      " 'Tongue': 648>\n"
     ]
    }
   ],
   "source": [
    "# Filter the epochs and apply other preprocessing steps\n",
    "epochs.filter(l_freq=0.5, h_freq=100)\n",
    "\n",
    "print(epochs)"
   ]
  },
  {
   "cell_type": "code",
   "execution_count": 55,
   "metadata": {},
   "outputs": [],
   "source": [
    "# epochs.plot_drop_log()\n",
    "\n",
    "# epochs.plot_psd(fmin=0.5, fmax=100, average=True)"
   ]
  },
  {
   "cell_type": "code",
   "execution_count": 56,
   "metadata": {},
   "outputs": [],
   "source": [
    "# epochs_1 = mne.Epochs(raw, events, tmin=3., tmax=6., picks='eeg' )\n",
    "# evoked = epochs_1.average()\n",
    "# evoked.plot()"
   ]
  },
  {
   "cell_type": "code",
   "execution_count": 57,
   "metadata": {},
   "outputs": [
    {
     "name": "stderr",
     "output_type": "stream",
     "text": [
      "C:\\Users\\NguyenDucHuy\\AppData\\Local\\Temp\\ipykernel_15432\\1449513085.py:2: RuntimeWarning: event 1 missing from event_id will be ignored\n",
      "  fig = mne.viz.plot_events(events, event_id=event_id,\n",
      "C:\\Users\\NguyenDucHuy\\AppData\\Local\\Temp\\ipykernel_15432\\1449513085.py:2: RuntimeWarning: event 2 missing from event_id will be ignored\n",
      "  fig = mne.viz.plot_events(events, event_id=event_id,\n",
      "C:\\Users\\NguyenDucHuy\\AppData\\Local\\Temp\\ipykernel_15432\\1449513085.py:2: RuntimeWarning: event 3 missing from event_id will be ignored\n",
      "  fig = mne.viz.plot_events(events, event_id=event_id,\n",
      "C:\\Users\\NguyenDucHuy\\AppData\\Local\\Temp\\ipykernel_15432\\1449513085.py:2: RuntimeWarning: event 4 missing from event_id will be ignored\n",
      "  fig = mne.viz.plot_events(events, event_id=event_id,\n",
      "C:\\Users\\NguyenDucHuy\\AppData\\Local\\Temp\\ipykernel_15432\\1449513085.py:2: RuntimeWarning: event 5 missing from event_id will be ignored\n",
      "  fig = mne.viz.plot_events(events, event_id=event_id,\n",
      "C:\\Users\\NguyenDucHuy\\AppData\\Local\\Temp\\ipykernel_15432\\1449513085.py:2: RuntimeWarning: event 6 missing from event_id will be ignored\n",
      "  fig = mne.viz.plot_events(events, event_id=event_id,\n",
      "C:\\Users\\NguyenDucHuy\\AppData\\Local\\Temp\\ipykernel_15432\\1449513085.py:2: RuntimeWarning: event 11 missing from event_id will be ignored\n",
      "  fig = mne.viz.plot_events(events, event_id=event_id,\n",
      "C:\\Users\\NguyenDucHuy\\AppData\\Local\\Temp\\ipykernel_15432\\1449513085.py:2: RuntimeWarning: More events than default colors available. You should pass a list of unique colors.\n",
      "  fig = mne.viz.plot_events(events, event_id=event_id,\n"
     ]
    }
   ],
   "source": [
    "# plot events\n",
    "fig = mne.viz.plot_events(events, event_id=event_id,\n",
    "                          sfreq=raw.info['sfreq'],\n",
    "                          first_samp=events[0, 0]);\n",
    "\n",
    "# keep the color-code for further plotting\n",
    "stage_colors = plt.rcParams['axes.prop_cycle'].by_key()['color']"
   ]
  },
  {
   "cell_type": "code",
   "execution_count": 58,
   "metadata": {},
   "outputs": [
    {
     "name": "stdout",
     "output_type": "stream",
     "text": [
      "Effective window size : 1.024 (s)\n",
      "11102\n",
      "{0.0, 1.252, 131.156, 133.644, 7.5, 135.884, 137.16, 138.232, 142.156, 142.82, 144.344, 143.556, 146.996, 146.376, 148.556, 149.52, 150.696, 148.736, 152.88, 152.404, 154.224, 152.14, 159.732, 164.64, 166.248, 79.532, 79.616, 81.084, 85.432, 87.5, 87.308, 91.6, 92.856, 120.552, 94.876, 94.644, 93.612, 97.06, 102.452, 122.28, 104.352, 104.016, 103.228, 108.64, 109.316, 110.328, 108.676, 108.372, 108.472, 116.732, 118.728, 0.004, 126.352, 123.508, 124.44, 126.048}\n",
      "{'1023', '783', 'BAD boundary', '771', '770', 'EDGE boundary', '276', '32766', '1072', '772', '769', '277', '768'}\n",
      "0.0\n"
     ]
    }
   ],
   "source": [
    "spectrum = raw.compute_psd()\n",
    "\n",
    "spectrum.plot(average=True)\n",
    "\n",
    "print(len(raw.annotations))\n",
    "print(set(raw.annotations.duration))\n",
    "print(set(raw.annotations.description))\n",
    "print(raw.annotations.onset[0])"
   ]
  },
  {
   "cell_type": "code",
   "execution_count": 59,
   "metadata": {},
   "outputs": [
    {
     "name": "stderr",
     "output_type": "stream",
     "text": [
      "d:\\File python\\lib\\site-packages\\sklearn\\preprocessing\\_encoders.py:868: FutureWarning: `sparse` was renamed to `sparse_output` in version 1.2 and will be removed in 1.4. `sparse_output` is ignored unless you leave `sparse` to its default value.\n",
      "  warnings.warn(\n"
     ]
    },
    {
     "name": "stdout",
     "output_type": "stream",
     "text": [
      "Number of training epochs: 1808\n",
      "Number of testing epochs: 775\n"
     ]
    }
   ],
   "source": [
    "# Get the unique labels of the events in the data\n",
    "labels = epochs.events[:, 2]\n",
    "unique_labels = np.unique(labels)\n",
    "\n",
    "# Use LabelEncoder to transform the labels into integers\n",
    "le = LabelEncoder()\n",
    "le.fit(unique_labels)\n",
    "int_labels = le.transform(labels)\n",
    "\n",
    "# Use OneHotEncoder to transform the integer labels into one-hot eancoded vectors\n",
    "ohe = OneHotEncoder(sparse=False)\n",
    "ohe.fit(np.arange(len(unique_labels)).reshape(-1, 1))\n",
    "one_hot_labels = ohe.transform(int_labels.reshape(-1, 1))\n",
    "\n",
    "# Convert the one-hot encoded labels to a dense array\n",
    "y = coo_matrix(one_hot_labels).toarray()\n",
    "\n",
    "# Split the data into training and testing sets\n",
    "indices = np.arange(len(epochs))\n",
    "train_indices, test_indices, y_train, y_test = train_test_split(indices, y, test_size=0.3, random_state=32) \n",
    "\n",
    "train_epochs = epochs[train_indices]\n",
    "test_epochs = epochs[test_indices]\n",
    "\n",
    "print(\"Number of training epochs:\", len(train_epochs))\n",
    "print(\"Number of testing epochs:\", len(test_epochs))"
   ]
  },
  {
   "cell_type": "code",
   "execution_count": 60,
   "metadata": {},
   "outputs": [
    {
     "name": "stdout",
     "output_type": "stream",
     "text": [
      "(2583, 22, 751)\n"
     ]
    }
   ],
   "source": [
    "epochs_data = epochs.get_data()\n",
    "print(epochs_data.shape)\n",
    "#  2583 epochs, each containing 22 channels, and a length of 751 time points."
   ]
  },
  {
   "cell_type": "code",
   "execution_count": 61,
   "metadata": {},
   "outputs": [
    {
     "name": "stdout",
     "output_type": "stream",
     "text": [
      "Computing rank from data with rank=None\n",
      "    Using tolerance 8.5 (2.2e-16 eps * 22 dim * 1.7e+15  max singular value)\n",
      "    Estimated rank (mag): 22\n",
      "    MAG: rank 22 computed from 22 data channels with 0 projectors\n",
      "Reducing data rank from 22 -> 22\n",
      "Estimating covariance using EMPIRICAL\n",
      "Done.\n",
      "Computing rank from data with rank=None\n",
      "    Using tolerance 8.8 (2.2e-16 eps * 22 dim * 1.8e+15  max singular value)\n",
      "    Estimated rank (mag): 22\n",
      "    MAG: rank 22 computed from 22 data channels with 0 projectors\n",
      "Reducing data rank from 22 -> 22\n",
      "Estimating covariance using EMPIRICAL\n",
      "Done.\n",
      "Computing rank from data with rank=None\n",
      "    Using tolerance 8.8 (2.2e-16 eps * 22 dim * 1.8e+15  max singular value)\n",
      "    Estimated rank (mag): 22\n",
      "    MAG: rank 22 computed from 22 data channels with 0 projectors\n",
      "Reducing data rank from 22 -> 22\n",
      "Estimating covariance using EMPIRICAL\n",
      "Done.\n",
      "Computing rank from data with rank=None\n",
      "    Using tolerance 9.2 (2.2e-16 eps * 22 dim * 1.9e+15  max singular value)\n",
      "    Estimated rank (mag): 22\n",
      "    MAG: rank 22 computed from 22 data channels with 0 projectors\n",
      "Reducing data rank from 22 -> 22\n",
      "Estimating covariance using EMPIRICAL\n",
      "Done.\n"
     ]
    },
    {
     "name": "stderr",
     "output_type": "stream",
     "text": [
      "d:\\File python\\lib\\site-packages\\sklearn\\ensemble\\_base.py:166: FutureWarning: `base_estimator` was renamed to `estimator` in version 1.2 and will be removed in 1.4.\n",
      "  warnings.warn(\n"
     ]
    },
    {
     "name": "stdout",
     "output_type": "stream",
     "text": [
      "Accuracy score: 30.32%\n",
      "[[61 49 51 46]\n",
      " [46 63 49 34]\n",
      " [30 47 51 49]\n",
      " [44 40 55 60]]\n"
     ]
    }
   ],
   "source": [
    "from mne.decoding import CSP\n",
    "from sklearn.discriminant_analysis import LinearDiscriminantAnalysis\n",
    "from sklearn.ensemble import BaggingClassifier\n",
    "from sklearn.metrics import accuracy_score, confusion_matrix\n",
    "from sklearn.pipeline import make_pipeline\n",
    "from sklearn.preprocessing import StandardScaler\n",
    "\n",
    "# Convert Epochs objects to numpy arrays\n",
    "X_train = train_epochs.get_data()\n",
    "X_test = test_epochs.get_data()\n",
    "\n",
    "# Reshape the data to combine channels and time points dimensions\n",
    "n_epochs_train, n_channels, n_times = X_train.shape\n",
    "n_epochs_test = X_test.shape[0]\n",
    "X_train = X_train.reshape(n_epochs_train, n_channels * n_times)\n",
    "X_test = X_test.reshape(n_epochs_test, n_channels * n_times)\n",
    "\n",
    "# Normalize the input data using StandardScaler\n",
    "scaler = StandardScaler()\n",
    "X_train_scaled = scaler.fit_transform(X_train)\n",
    "X_test_scaled = scaler.transform(X_test)\n",
    "\n",
    "# Reshape the data back to the original shape\n",
    "X_train_scaled = X_train_scaled.reshape(n_epochs_train, n_channels, n_times)\n",
    "X_test_scaled = X_test_scaled.reshape(n_epochs_test, n_channels, n_times)\n",
    "\n",
    "# Define the CSP feature extraction\n",
    "csp = CSP(n_components=22, reg=None, log=True, norm_trace=True)\n",
    "\n",
    "# Define the LDA classifier\n",
    "lda = LinearDiscriminantAnalysis()\n",
    "\n",
    "# Define the bagging classifier with the tuned LDA base estimator\n",
    "bagging_clf = BaggingClassifier(base_estimator=lda, n_estimators=5, random_state=64)\n",
    "\n",
    "# Define the pipeline with CSP feature extraction, bagging classifier, and grid search\n",
    "pipe = make_pipeline(csp, bagging_clf)\n",
    "\n",
    "# Flatten the label arrays to have shape (n_samples,)\n",
    "y_train = train_epochs.events[:, 2].flatten()\n",
    "y_test = test_epochs.events[:, 2].flatten()\n",
    "\n",
    "# Fit the pipeline to the training data\n",
    "pipe.fit(X_train_scaled, y_train)\n",
    "\n",
    "# Make predictions on the test data\n",
    "y_pred = pipe.predict(X_test_scaled)\n",
    "\n",
    "# Evaluate the accuracy of the predictions\n",
    "accuracy = accuracy_score(y_test, y_pred)\n",
    "\n",
    "print(\"Accuracy score: {:.2f}%\".format(accuracy * 100))\n",
    "print(confusion_matrix(y_test, y_pred))"
   ]
  },
  {
   "cell_type": "code",
   "execution_count": 62,
   "metadata": {},
   "outputs": [
    {
     "name": "stdout",
     "output_type": "stream",
     "text": [
      "    Using multitaper spectrum estimation with 7 DPSS windows\n",
      "    Using multitaper spectrum estimation with 7 DPSS windows\n",
      "Accuracy score: 26.45%\n"
     ]
    }
   ],
   "source": [
    "from sklearn.ensemble import RandomForestClassifier\n",
    "from sklearn.metrics import accuracy_score\n",
    "from sklearn.metrics import confusion_matrix\n",
    "from sklearn.metrics import classification_report\n",
    "from sklearn.pipeline import make_pipeline\n",
    "from sklearn.preprocessing import FunctionTransformer\n",
    "from sklearn.impute import SimpleImputer\n",
    "\n",
    "from sklearn.experimental import enable_hist_gradient_boosting  # noqa\n",
    "from sklearn.ensemble import HistGradientBoostingClassifier\n",
    "from tensorflow.keras.utils import to_categorical\n",
    "# define the pipeline\n",
    "pipe = make_pipeline(FunctionTransformer(eeg_power_band, validate=False),\n",
    "                     HistGradientBoostingClassifier(random_state=123))\n",
    "\n",
    "# train the pipeline\n",
    "y_train = train_epochs.events[:, 2]\n",
    "pipe.fit(train_epochs, y_train)\n",
    "\n",
    "# test the pipeline\n",
    "y_pred = pipe.predict(test_epochs)\n",
    "\n",
    "# assess the results\n",
    "y_test = test_epochs.events[:, 2]\n",
    "acc = accuracy_score(y_test, y_pred)\n",
    "\n",
    "print(\"Accuracy score: {:.2f}%\".format(acc * 100))"
   ]
  },
  {
   "cell_type": "code",
   "execution_count": 63,
   "metadata": {},
   "outputs": [
    {
     "name": "stdout",
     "output_type": "stream",
     "text": [
      "    Using multitaper spectrum estimation with 7 DPSS windows\n"
     ]
    },
    {
     "name": "stderr",
     "output_type": "stream",
     "text": [
      "d:\\File python\\lib\\site-packages\\sklearn\\ensemble\\_base.py:166: FutureWarning: `base_estimator` was renamed to `estimator` in version 1.2 and will be removed in 1.4.\n",
      "  warnings.warn(\n"
     ]
    },
    {
     "name": "stdout",
     "output_type": "stream",
     "text": [
      "    Using multitaper spectrum estimation with 7 DPSS windows\n",
      "Accuracy score: 28.52%\n"
     ]
    }
   ],
   "source": [
    "from sklearn.ensemble import RandomForestClassifier, BaggingClassifier\n",
    "from sklearn.metrics import accuracy_score\n",
    "from sklearn.pipeline import make_pipeline\n",
    "from sklearn.preprocessing import FunctionTransformer\n",
    "\n",
    "# Define the bagging classifier with a random forest base estimator\n",
    "bagging_clf = BaggingClassifier(base_estimator=RandomForestClassifier(max_depth=5), n_estimators=10, random_state=32)\n",
    "\n",
    "# Define the pipeline with feature engineering and bagging classifier\n",
    "pipe = make_pipeline(FunctionTransformer(eeg_power_band, validate=False), bagging_clf)\n",
    "\n",
    "# Extract labels from epochs\n",
    "y_train = train_epochs.events[:, 2]\n",
    "y_test = test_epochs.events[:, 2]\n",
    "\n",
    "# Fit the pipeline to the training data\n",
    "pipe.fit(train_epochs, y_train)\n",
    "\n",
    "# Make predictions on the test data\n",
    "y_pred = pipe.predict(test_epochs)\n",
    "\n",
    "# Evaluate the accuracy of the predictions\n",
    "accuracy = accuracy_score(y_test.ravel(), y_pred)\n",
    "print(\"Accuracy score: {:.2f}%\".format(accuracy * 100))"
   ]
  },
  {
   "cell_type": "code",
   "execution_count": 64,
   "metadata": {},
   "outputs": [
    {
     "name": "stdout",
     "output_type": "stream",
     "text": [
      "    Using multitaper spectrum estimation with 7 DPSS windows\n"
     ]
    },
    {
     "name": "stderr",
     "output_type": "stream",
     "text": [
      "d:\\File python\\lib\\site-packages\\sklearn\\ensemble\\_base.py:166: FutureWarning: `base_estimator` was renamed to `estimator` in version 1.2 and will be removed in 1.4.\n",
      "  warnings.warn(\n"
     ]
    },
    {
     "name": "stdout",
     "output_type": "stream",
     "text": [
      "    Using multitaper spectrum estimation with 7 DPSS windows\n",
      "Accuracy score: 26.45%\n"
     ]
    }
   ],
   "source": [
    "from sklearn.linear_model import LogisticRegression\n",
    "\n",
    "# Define the bagging classifier with a logistic regression base estimator\n",
    "bagging_clf = BaggingClassifier(base_estimator=LogisticRegression(max_iter=1000), n_estimators=10, random_state=32)\n",
    "\n",
    "# Define the pipeline with feature engineering and bagging classifier\n",
    "pipe = make_pipeline(FunctionTransformer(eeg_power_band, validate=False), bagging_clf)\n",
    "\n",
    "# Extract labels from epochs\n",
    "y_train = train_epochs.events[:, 2]\n",
    "y_test = test_epochs.events[:, 2]\n",
    "\n",
    "# Fit the pipeline to the training data\n",
    "pipe.fit(train_epochs, y_train)\n",
    "\n",
    "# Make predictions on the test data\n",
    "y_pred = pipe.predict(test_epochs)\n",
    "\n",
    "# Evaluate the accuracy of the predictions\n",
    "accuracy = accuracy_score(y_test.ravel(), y_pred)\n",
    "print(\"Accuracy score: {:.2f}%\".format(accuracy * 100))"
   ]
  },
  {
   "cell_type": "code",
   "execution_count": 65,
   "metadata": {},
   "outputs": [
    {
     "name": "stdout",
     "output_type": "stream",
     "text": [
      "              precision    recall  f1-score   support\n",
      "\n",
      "   Left hand       0.39      0.08      0.13       207\n",
      "  Right hand       0.27      0.37      0.31       192\n",
      "        Foot       0.22      0.34      0.27       177\n",
      "      Tongue       0.30      0.29      0.29       199\n",
      "\n",
      "    accuracy                           0.26       775\n",
      "   macro avg       0.29      0.27      0.25       775\n",
      "weighted avg       0.30      0.26      0.25       775\n",
      "\n"
     ]
    }
   ],
   "source": [
    "# Get the confusion matrix\n",
    "cm = confusion_matrix(y_test, y_pred)\n",
    "\n",
    "print(classification_report(y_test, y_pred, target_names=event_id.keys()))"
   ]
  },
  {
   "cell_type": "code",
   "execution_count": 66,
   "metadata": {},
   "outputs": [
    {
     "name": "stdout",
     "output_type": "stream",
     "text": [
      "Computing rank from covariance with rank=None\n",
      "    Using tolerance 2.6e-15 (2.2e-16 eps * 22 dim * 0.54  max singular value)\n",
      "    Estimated rank (eeg): 21\n",
      "    EEG: rank 21 computed from 22 data channels with 0 projectors\n",
      "Channels marked as bad:\n",
      "none\n"
     ]
    },
    {
     "data": {
      "text/plain": [
       "-1"
      ]
     },
     "execution_count": 66,
     "metadata": {},
     "output_type": "execute_result"
    }
   ],
   "source": [
    "noise_cov = mne.compute_covariance(epochs, tmax=3, method='shrunk', rank=None, verbose='error')\n",
    "\n",
    "# epochs.plot(n_epochs=5, noise_cov=noise_cov,picks=picks)\n",
    "\n",
    "raw.plot(noise_cov=noise_cov)\n",
    "\n",
    "plt.show()\n",
    "\n",
    "cv2.waitKey(0)"
   ]
  },
  {
   "cell_type": "code",
   "execution_count": 67,
   "metadata": {},
   "outputs": [],
   "source": [
    "import matplotlib.pyplot as plt\n",
    "plt.switch_backend('TkAgg')"
   ]
  }
 ],
 "metadata": {
  "kernelspec": {
   "display_name": "Python 3",
   "language": "python",
   "name": "python3"
  },
  "language_info": {
   "codemirror_mode": {
    "name": "ipython",
    "version": 3
   },
   "file_extension": ".py",
   "mimetype": "text/x-python",
   "name": "python",
   "nbconvert_exporter": "python",
   "pygments_lexer": "ipython3",
   "version": "3.10.10"
  },
  "orig_nbformat": 4
 },
 "nbformat": 4,
 "nbformat_minor": 2
}
